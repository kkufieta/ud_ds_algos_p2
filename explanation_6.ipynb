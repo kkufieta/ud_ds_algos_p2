{
 "cells": [
  {
   "cell_type": "markdown",
   "metadata": {},
   "source": [
    "# Explanation for Problem 6:  Unsorted Integer Array\n",
    "\n",
    "## Requirements\n",
    "The time requirement is `O(n)`, and it is prohibited to use Python's inbuilt `min` and `max` functions. A single traversal is preferred.\n",
    "\n",
    "## Code Design\n",
    "This is such an easy problem, I wonder if I understood it wrong :P\n",
    "\n",
    "Anyways, we have two variables to keep track of the current `min` and `max` in the array, and we update them as we traverse the array one single time.\n",
    "\n",
    "## Efficiency\n",
    "\n",
    "### Time Efficiency\n",
    "The time efficiency is `O(n)`, and we can solve this problem in a single traversal, since we don't have to look at any elements more than once.\n",
    "\n",
    "### Space Efficiency\n",
    "We don't need extra space, so the space efficiency is `O(1)`."
   ]
  },
  {
   "cell_type": "code",
   "execution_count": null,
   "metadata": {},
   "outputs": [],
   "source": []
  }
 ],
 "metadata": {
  "kernelspec": {
   "display_name": "Python 3",
   "language": "python",
   "name": "python3"
  },
  "language_info": {
   "codemirror_mode": {
    "name": "ipython",
    "version": 3
   },
   "file_extension": ".py",
   "mimetype": "text/x-python",
   "name": "python",
   "nbconvert_exporter": "python",
   "pygments_lexer": "ipython3",
   "version": "3.5.6"
  }
 },
 "nbformat": 4,
 "nbformat_minor": 2
}
