{
 "cells": [
  {
   "cell_type": "markdown",
   "metadata": {},
   "source": [
    "# Explanation for Problem 3:  Rearrange Array Digits\n",
    "\n",
    "## Requirements\n",
    "The required time efficiency is `O(n*log(n))`, and the use of python's sorting functions is prohibited.\n",
    "\n",
    "## Code Design\n",
    "In order to achieve the required time efficiency, I decided to use mergesort, which has an `O(n*log(n))` time efficiency and an `O(n)` space complexity. After that, finding the max numbers is trivial.\n",
    "\n",
    "## Efficiency\n",
    "\n",
    "### Time Efficiency\n",
    "First, the array has to be sorted. Using mergesort this is done in `O(n*log(n))` time. After that, we loop through the sorted array to form the two numbers, which takes `O(n)` time. Together, we end up with a time efficiency of `O(n*log(n))`.\n",
    "\n",
    "### Space Efficiency\n",
    "The space efficiency for mergesort is `O(n)`, which is the upper bound for the entire algorithm."
   ]
  }
 ],
 "metadata": {
  "kernelspec": {
   "display_name": "Python 3",
   "language": "python",
   "name": "python3"
  },
  "language_info": {
   "codemirror_mode": {
    "name": "ipython",
    "version": 3
   },
   "file_extension": ".py",
   "mimetype": "text/x-python",
   "name": "python",
   "nbconvert_exporter": "python",
   "pygments_lexer": "ipython3",
   "version": "3.5.6"
  }
 },
 "nbformat": 4,
 "nbformat_minor": 2
}
