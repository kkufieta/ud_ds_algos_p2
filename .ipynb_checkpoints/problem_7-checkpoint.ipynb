{
 "cells": [
  {
   "cell_type": "markdown",
   "metadata": {},
   "source": [
    "# Problem 7: Request Routing in a Web Server with a Trie\n",
    "\n",
    "For this exercise we are going to implement an HTTP Router like you would find in a typical web server using the Trie data structure we learned previously.\n",
    "\n",
    "There are many different implementations of HTTP Routers such as regular expressions or simple string matching, but the Trie is an excellent and very efficient data structure for this purpose.\n",
    "\n",
    "The purpose of an HTTP Router is to take a URL path like \"/\", \"/about\", or \"/blog/2019-01-15/my-awesome-blog-post\" and figure out what content to return. In a dynamic web server, the content will often come from a block of code called a handler.\n",
    "\n",
    "First we need to implement a slightly different Trie than the one we used for autocomplete. Instead of simple words the Trie will contain a part of the http path at each node, building from the root node /\n",
    "\n",
    "In addition to a path though, we need to know which function will handle the http request. In a real router we would probably pass an instance of a class like Python's [SimpleHTTPRequestHandler](https://docs.python.org/3/library/http.server.html#http.server.SimpleHTTPRequestHandler) which would be responsible for handling requests to that path. For the sake of simplicity we will just use a string that we can print out to ensure we got the right handler\n",
    "\n",
    "We could split the path into letters similar to how we did the autocomplete Trie, but this would result in a Trie with a very large number of nodes and lengthy traversals if we have a lot of pages on our site. A more sensible way to split things would be on the parts of the path that are separated by slashes (\"/\"). A Trie with a single path entry of: \"/about/me\" would look like:\n",
    "\n",
    "(root, None) -> (\"about\", None) -> (\"me\", \"About Me handler\")\n",
    "\n",
    "We can also simplify our RouteTrie a bit by excluding the suffixes method and the endOfWord property on RouteTrieNodes. We really just need to insert and find nodes, and if a RouteTrieNode is not a leaf node, it won't have a handler which is fine."
   ]
  },
  {
   "cell_type": "markdown",
   "metadata": {},
   "source": [
    "## RouteTrie and RouteTrieNode"
   ]
  },
  {
   "cell_type": "code",
   "execution_count": 1,
   "metadata": {},
   "outputs": [],
   "source": [
    "# A RouteTrie will store our routes and their associated handlers\n",
    "class RouteTrie:\n",
    "    def __init__(self):\n",
    "        \"\"\"\n",
    "        Initializes the trie with a root node and handler.\n",
    "        \n",
    "        The root node is the root path or home page node.\n",
    "        \"\"\"\n",
    "        self.root = RouteTrieNode()\n",
    "        \n",
    "    def _get_sub_paths(self, path):\n",
    "        \"\"\"\n",
    "        Cleans up and splits the path into parts.\n",
    "        \"\"\"\n",
    "        assert(type(path) == str), \"Path has to be a string\"\n",
    "        path = path.lower()\n",
    "        # Checks for and delete leading and trailing slashes.\n",
    "        if len(path) > 0 and path[0] == '/':\n",
    "            path = path[1:]\n",
    "        if len(path) > 0 and path[-1] == '/':\n",
    "            path = path[:-1]\n",
    "            \n",
    "        return path.split('/')\n",
    "\n",
    "    def insert(self, full_path, handler):\n",
    "        \"\"\"\n",
    "        Adds a path and its handler.\n",
    "        \n",
    "        This method uses recursion.\n",
    "        \"\"\"\n",
    "        assert(type(full_path) == str), \"Path has to be a string\"\n",
    "        assert(type(handler) == str), \"Handler has to be a string\"\n",
    "        # Make sure you assign the handler to only the leaf \n",
    "        # (deepest) node of this path.\n",
    "        sub_paths = self._get_sub_paths(full_path)\n",
    "        node = self.root\n",
    "        for path in sub_paths:\n",
    "            node.insert(path)\n",
    "            node = node.get_node(path)\n",
    "        node.set_handler(handler)\n",
    "        \n",
    "\n",
    "    def find(self, path):\n",
    "        \"\"\"\n",
    "        Finds a path and returns the handler.\n",
    "        \"\"\"\n",
    "        assert(type(path) == str), \"Path has to be a string\"\n",
    "        # Starting at the root, navigate the Trie to find a match for this path\n",
    "        # Return the handler for a match, or None for no match\n",
    "        sub_paths = self._get_sub_paths(path)\n",
    "        node = self.root\n",
    "        for p in sub_paths:\n",
    "            if p in node:\n",
    "                node = node.get_node(p)\n",
    "            else:\n",
    "                return None\n",
    "        return node.handler\n",
    "\n",
    "# Represents a single node in RouteTrie\n",
    "class RouteTrieNode:\n",
    "    def __init__(self):\n",
    "        \"\"\"\n",
    "        Initializes the RouteTrieNode.\n",
    "        \"\"\"\n",
    "        self.handler = None\n",
    "        self.children = {}\n",
    "\n",
    "    def insert(self, path):\n",
    "        \"\"\"\n",
    "        Adds a path to its children.\n",
    "        \"\"\"\n",
    "        assert(type(path) == str), \"Path has to be a string\"\n",
    "        if path not in self:\n",
    "            self.children[path] = RouteTrieNode()\n",
    "        \n",
    "    def get_node(self, path):\n",
    "        \"\"\"\n",
    "        Finds and returns a node based on a path.\n",
    "        \"\"\"\n",
    "        assert(type(path) == str), \"Path has to be a string\"\n",
    "        return self.children[path]\n",
    "    \n",
    "    def set_handler(self, handler):\n",
    "        \"\"\"\n",
    "        Sets a handler.\n",
    "        \"\"\"\n",
    "        assert(type(handler) == str), \"Handler has to be a string\"\n",
    "        self.handler = handler\n",
    "            \n",
    "    def __contains__(self, path):\n",
    "        \"\"\"\n",
    "        Checks if this node contains a path.\n",
    "        \"\"\"\n",
    "        assert(type(path) == str), \"Path has to be a string\"\n",
    "        return path in self.children\n",
    "    \n",
    "    def __str__(self):\n",
    "        \"\"\"\n",
    "        String representation of the RouteTrieNode.\n",
    "        \"\"\"\n",
    "        s = \"Handler: \" + str(self.handler) + \"\\n\"\n",
    "        s += \"Children: [\"\n",
    "        if len(self.children) == 0:\n",
    "            s += \"]\"\n",
    "            return s\n",
    "        \n",
    "        for i, child in enumerate(self.children):\n",
    "            s += \"'\" + str(child) + \"'\"\n",
    "            if i < len(self.children)-1:\n",
    "                s += \", \"\n",
    "            else: \n",
    "                s += \"]\\n\"\n",
    "        return s"
   ]
  },
  {
   "cell_type": "markdown",
   "metadata": {},
   "source": [
    "## Router"
   ]
  },
  {
   "cell_type": "markdown",
   "metadata": {},
   "source": [
    "Next we need to implement the actual Router. The router will initialize itself with a RouteTrie for holding routes and associated handlers. It should also support adding a handler by path and looking up a handler by path. All of these operations will be delegated to the RouteTrie.\n",
    "\n",
    "Hint: the RouteTrie stores handlers under path parts, so remember to split your path around the '/' character\n",
    "\n",
    "Bonus Points: Add a not found handler to your Router which is returned whenever a path is not found in the Trie.\n",
    "\n",
    "More Bonus Points: Handle trailing slashes! A request for '/about' or '/about/' are probably looking for the same page. Requests for '' or '/' are probably looking for the root handler. Handle these edge cases in your Router."
   ]
  },
  {
   "cell_type": "code",
   "execution_count": 2,
   "metadata": {},
   "outputs": [],
   "source": [
    "# The Router class will wrap the Trie and handle \n",
    "class Router:\n",
    "    def __init__(self, root_handler, \n",
    "                 not_found_handler=\"404 - page not found\"):\n",
    "        \"\"\"\n",
    "        Initializes the Router.\n",
    "        \n",
    "        Creates a new RouteTrie for storing routes.\n",
    "        \"\"\"\n",
    "        assert(type(root_handler) == str), \"Root handler has to be a string\"\n",
    "        assert(type(not_found_handler) == str), \"Not found handler has to be a string\"\n",
    "        self.trie = RouteTrie()\n",
    "        self.trie.insert('/', root_handler)\n",
    "        self.not_found_handler = not_found_handler\n",
    "\n",
    "    def add_handler(self, path, handler):\n",
    "        \"\"\"\n",
    "        Adds a handler for a given path.\n",
    "        \"\"\"\n",
    "        assert(type(path) == str), \"Path has to be a string\"\n",
    "        assert(type(handler) == str), \"Handler has to be a string\"\n",
    "        self.trie.insert(path, handler)\n",
    "        \n",
    "\n",
    "    def lookup(self, path):\n",
    "        \"\"\"\n",
    "        Looks up a path and returns the associated handler.\n",
    "        \"\"\"\n",
    "        assert(type(path) == str), \"Path has to be a string\"\n",
    "        handler = self.trie.find(path)\n",
    "        return handler if handler else self.not_found_handler"
   ]
  },
  {
   "cell_type": "markdown",
   "metadata": {},
   "source": [
    "## Test Cases"
   ]
  },
  {
   "cell_type": "markdown",
   "metadata": {},
   "source": [
    "### Test RouteTrie and RouteTrieNode"
   ]
  },
  {
   "cell_type": "code",
   "execution_count": 3,
   "metadata": {},
   "outputs": [],
   "source": [
    "# Inserting a bunch of paths and handlers\n",
    "routeTrie = RouteTrie()\n",
    "routeTrie.insert('/', 'home_handler')\n",
    "routeTrie.insert('/about/me/', 'about_me_handler')\n",
    "routeTrie.insert('/sports', 'sports_handler')\n",
    "routeTrie.insert('/career', 'career_handler')\n",
    "routeTrie.insert('/sports/climbing', 'sports_climbing_handler')\n",
    "routeTrie.insert('/sports/BJJ', 'sports_bjj_handler')\n",
    "routeTrie.insert('/sports', 'NEW_sports_handler')\n",
    "routeTrie.insert('/sports/judo', 'sports_judo_handler')"
   ]
  },
  {
   "cell_type": "code",
   "execution_count": 4,
   "metadata": {},
   "outputs": [
    {
     "name": "stdout",
     "output_type": "stream",
     "text": [
      "No AssertionError? We passed all tests!\n"
     ]
    }
   ],
   "source": [
    "# Finding a path and respective handler\n",
    "def find_path(path):\n",
    "    return routeTrie.find(path)\n",
    "\n",
    "paths = ['/about', '/about/me', '/about/me/', '/about/me///', '', '/', '//', '/sports',\n",
    "        '/career/', '/sports/bjj', '/sports/kayaking']\n",
    "\n",
    "expected_handlers = ['None', 'about_me_handler', 'about_me_handler', 'None', \n",
    "                     'home_handler', 'home_handler', 'home_handler', 'NEW_sports_handler',\n",
    "                     'career_handler', 'sports_bjj_handler', 'None']\n",
    "\n",
    "for i, path in enumerate(paths):\n",
    "    assert(str(find_path(path)) == expected_handlers[i])\n",
    "    \n",
    "print(\"No AssertionError? We passed all tests!\")"
   ]
  },
  {
   "cell_type": "markdown",
   "metadata": {},
   "source": [
    "### Test Router"
   ]
  },
  {
   "cell_type": "code",
   "execution_count": 5,
   "metadata": {},
   "outputs": [
    {
     "name": "stdout",
     "output_type": "stream",
     "text": [
      "No AssertionError? We passed all tests!\n"
     ]
    }
   ],
   "source": [
    "# Create the router and add a route\n",
    "router = Router(\"root handler\", \"not found handler\")\n",
    "router.add_handler(\"/home/about\", \"about handler\")\n",
    "\n",
    "\n",
    "# some lookups with the expected output\n",
    "assert(router.lookup(\"/\") == 'root handler')\n",
    "assert(router.lookup(\"/home\") == 'not found handler')\n",
    "assert(router.lookup(\"/home/about\") == 'about handler')\n",
    "assert(router.lookup(\"/home/about/\") == 'about handler')\n",
    "assert(router.lookup(\"/sports\") == 'not found handler')\n",
    "assert(router.lookup(\"/home/about//\") == 'not found handler')\n",
    "assert(router.lookup(\"/career/\") == 'not found handler')\n",
    "\n",
    "router.add_handler(\"/home/about/\", \"NEW About Handler\")\n",
    "assert(router.lookup(\"/\") == 'root handler')\n",
    "assert(router.lookup(\"/home\") == 'not found handler')\n",
    "assert(router.lookup(\"/home/about\") == 'NEW About Handler')\n",
    "assert(router.lookup(\"/home/about/\") == 'NEW About Handler')\n",
    "assert(router.lookup(\"/sports\") == 'not found handler')\n",
    "assert(router.lookup(\"/home/about//\") == 'not found handler')\n",
    "assert(router.lookup(\"/career/\") == 'not found handler')\n",
    "\n",
    "print(\"No AssertionError? We passed all tests!\")"
   ]
  }
 ],
 "metadata": {
  "kernelspec": {
   "display_name": "Python 3",
   "language": "python",
   "name": "python3"
  },
  "language_info": {
   "codemirror_mode": {
    "name": "ipython",
    "version": 3
   },
   "file_extension": ".py",
   "mimetype": "text/x-python",
   "name": "python",
   "nbconvert_exporter": "python",
   "pygments_lexer": "ipython3",
   "version": "3.5.6"
  }
 },
 "nbformat": 4,
 "nbformat_minor": 2
}
