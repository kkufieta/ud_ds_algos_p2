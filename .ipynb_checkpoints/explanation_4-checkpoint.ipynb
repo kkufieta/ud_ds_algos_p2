{
 "cells": [
  {
   "cell_type": "markdown",
   "metadata": {},
   "source": [
    "# Explanation for Problem 4:  Dutch National Flag Problem\n",
    "\n",
    "## Requirements\n",
    "Sort the array in a single traversal, which is stricter than `O(n)`.\n",
    "\n",
    "## Code Design\n",
    "In order to sort the array in a single traversal, we have to sort it as we loop through the elements.\n",
    "\n",
    "Since we have only 3 types of elements in the array, {0, 1, 2}, we can assume that the sorted array is going to be divided into 3 sections, where the first section has only 0's, the second one has only 1's, and the third one has only 2's. \n",
    "\n",
    "Using that knowledge, we can keep track of indices that separate those 3 sections, and shuffle around values and the separating indices to conform to the 3-section rule as we look at elements one by one from both sides.\n",
    "\n",
    "## Efficiency\n",
    "\n",
    "### Time Efficiency\n",
    "We look at each element only once, and then do a small number of swaps at each step. Thus, the time complexity is a single traversal, and `O(n)`.\n",
    "\n",
    "### Space Efficiency\n",
    "We use only `O(1)` space, since we are sorting the array in place, and we're only keeping track of the current values we look at, and the indices separating the three sections of the array."
   ]
  }
 ],
 "metadata": {
  "kernelspec": {
   "display_name": "Python 3",
   "language": "python",
   "name": "python3"
  },
  "language_info": {
   "codemirror_mode": {
    "name": "ipython",
    "version": 3
   },
   "file_extension": ".py",
   "mimetype": "text/x-python",
   "name": "python",
   "nbconvert_exporter": "python",
   "pygments_lexer": "ipython3",
   "version": "3.5.6"
  }
 },
 "nbformat": 4,
 "nbformat_minor": 2
}
