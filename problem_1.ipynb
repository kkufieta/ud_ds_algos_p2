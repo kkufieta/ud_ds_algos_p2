{
 "cells": [
  {
   "cell_type": "markdown",
   "metadata": {},
   "source": [
    "# Problem 1: Square Root of an Integer\n",
    "\n",
    "Find the floor value of the square root of an integer without using any Python library.\n",
    "\n",
    "E.g. if the given number is 16, then the answer would be 4.\n",
    "\n",
    "If the given number is 27, the answer would be 5 because sqrt(5) = 5.196 whose floor value is 5.\n",
    "\n",
    "The expected time complexity is O(log(n))."
   ]
  },
  {
   "cell_type": "code",
   "execution_count": 1,
   "metadata": {},
   "outputs": [],
   "source": [
    "def sqrt(number):\n",
    "    \"\"\"\n",
    "    Calculate the floored square root of a number\n",
    "\n",
    "    Args:\n",
    "       number(int): Number to find the floored squared root\n",
    "    Returns:\n",
    "       int: Floored Square Root\n",
    "    \"\"\"\n",
    "    if number <= 1:\n",
    "        return number\n",
    "    \n",
    "    num_1 = 2\n",
    "    num_2 = number//num_1\n",
    "    while num_1*2 < number//(num_1*2):\n",
    "        num_1 *= 2\n",
    "        num_2 = number//num_1\n",
    "    \n",
    "    while True:\n",
    "        if num_1 * num_1 == number:\n",
    "            return num_1\n",
    "        elif (num_1 + 1)*(num_1 + 1) > number:\n",
    "            return num_1\n",
    "        else:\n",
    "            num_1 += 1"
   ]
  },
  {
   "cell_type": "markdown",
   "metadata": {},
   "source": [
    "## Test Cases"
   ]
  },
  {
   "cell_type": "code",
   "execution_count": 10,
   "metadata": {},
   "outputs": [],
   "source": [
    "import math\n",
    "\n",
    "def test_sqrt(number, square_root):\n",
    "    print(\"number, square_root: \", number, square_root)\n",
    "    print(\"Pass\" if  (square_root == sqrt(number)) else \"Fail\")"
   ]
  },
  {
   "cell_type": "code",
   "execution_count": 11,
   "metadata": {},
   "outputs": [
    {
     "name": "stdout",
     "output_type": "stream",
     "text": [
      "number, square_root:  9 3\n",
      "Pass\n",
      "number, square_root:  0 0\n",
      "Pass\n",
      "number, square_root:  16 4\n",
      "Pass\n",
      "number, square_root:  1 1\n",
      "Pass\n",
      "number, square_root:  27 5\n",
      "Pass\n",
      "number, square_root:  2 1\n",
      "Fail\n",
      "number, square_root:  3 1\n",
      "Fail\n",
      "number, square_root:  4 2\n",
      "Pass\n",
      "number, square_root:  5 2\n",
      "Pass\n",
      "number, square_root:  25 5\n",
      "Pass\n",
      "number, square_root:  100 10\n",
      "Pass\n"
     ]
    }
   ],
   "source": [
    "for number in [9, 0, 16, 1, 27, 2, 3, 4, 5, 25, 100]:\n",
    "    test_sqrt(number, int(math.floor(math.sqrt(number))))"
   ]
  }
 ],
 "metadata": {
  "kernelspec": {
   "display_name": "Python 3",
   "language": "python",
   "name": "python3"
  },
  "language_info": {
   "codemirror_mode": {
    "name": "ipython",
    "version": 3
   },
   "file_extension": ".py",
   "mimetype": "text/x-python",
   "name": "python",
   "nbconvert_exporter": "python",
   "pygments_lexer": "ipython3",
   "version": "3.5.6"
  }
 },
 "nbformat": 4,
 "nbformat_minor": 2
}
