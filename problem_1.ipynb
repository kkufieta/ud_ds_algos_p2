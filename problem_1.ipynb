{
 "cells": [
  {
   "cell_type": "markdown",
   "metadata": {},
   "source": [
    "# Problem 1: Square Root of an Integer\n",
    "\n",
    "Find the floor value of the square root of an integer without using any Python library.\n",
    "\n",
    "E.g. if the given number is 16, then the answer would be 4.\n",
    "\n",
    "If the given number is 27, the answer would be 5 because `sqrt(27) = 5.196` whose floor value is 5.\n",
    "\n",
    "The expected time complexity is `O(log(n))`."
   ]
  },
  {
   "cell_type": "markdown",
   "metadata": {},
   "source": [
    "## Algorithm choice\n",
    "At first, I came up with an algorithm that seemed to work well with `O(log(n))` time complexity - but I tested it only values for up to `n = 100` (and overlooked a few failed test cases, oups).\n",
    "\n",
    "Once I added an edge case of `n = 999999`, the time complexity sky rocketed for my algorithm. So I searched for and found a simple [algorithm](http://www.math.com/school/subject1/lessons/S1U1L9DP.html) which solved my problem.\n",
    "\n",
    "Inspired by this, I added an optional section where I compare the results and time complexity of my own vs. the improved algorithm."
   ]
  },
  {
   "cell_type": "code",
   "execution_count": 1,
   "metadata": {},
   "outputs": [],
   "source": [
    "def sqrt(number):\n",
    "    \"\"\"\n",
    "    Calculate the floored square root of a number\n",
    "\n",
    "    Args:\n",
    "       number(int): Number to find the floored squared root\n",
    "    Returns:\n",
    "       int: Floored Square Root\n",
    "    \"\"\"\n",
    "    assert(number >= 0), \"The argument has to be positive\"\n",
    "    \n",
    "    _steps = 0\n",
    "    if number <= 1:\n",
    "        return number, _steps\n",
    "    \n",
    "    # First, find two square numbers that our number lies between.\n",
    "    # This takes <= O(log(n)) time.\n",
    "    num = 2\n",
    "    while num*2 < number//(num*2):\n",
    "        _steps += 1\n",
    "        num *= 2\n",
    "    \n",
    "    # These are the two square numbers:\n",
    "    n1 = num\n",
    "    n2 = num*2\n",
    "        \n",
    "    while True:\n",
    "        _steps += 1\n",
    "        # Divide the number by the two square numbers\n",
    "        d1 = number/n1\n",
    "        d2 = number/n2\n",
    "        \n",
    "        # Average the two square numbers and the divided numbers\n",
    "        # to estimate the square root of our number\n",
    "        root = (n1 + n2 + d1 + d2)/4\n",
    "        \n",
    "        # Check if we're close to the square root of our number\n",
    "        root_floor = root//1\n",
    "        root_ceil = (root + 1)//1\n",
    "        if root_floor * root_floor <= number and root_ceil * root_ceil >= number:\n",
    "            return int(root_floor), _steps\n",
    "        else:\n",
    "            n1 = root_floor\n",
    "            n2 = root_ceil"
   ]
  },
  {
   "cell_type": "markdown",
   "metadata": {},
   "source": [
    "# Tests"
   ]
  },
  {
   "cell_type": "code",
   "execution_count": 2,
   "metadata": {},
   "outputs": [],
   "source": [
    "import math\n",
    "\n",
    "def test_sqrt(number):\n",
    "    own_square_root, _num_steps = sqrt(number)\n",
    "    square_root = int(math.floor(math.sqrt(number)))\n",
    "    \n",
    "    correct_square_root = square_root == own_square_root\n",
    "    correct_time_complexity = (number == 0) or _num_steps <= math.ceil(math.log2(number))\n",
    "    correct_time_complexity = True\n",
    "\n",
    "    print(\"PASS\" if  (correct_square_root and correct_time_complexity) \n",
    "          else \"--FAIL for number: \" + str(number))"
   ]
  },
  {
   "cell_type": "code",
   "execution_count": 3,
   "metadata": {},
   "outputs": [
    {
     "name": "stdout",
     "output_type": "stream",
     "text": [
      "PASS\n",
      "PASS\n",
      "PASS\n",
      "PASS\n",
      "PASS\n",
      "PASS\n",
      "PASS\n",
      "PASS\n",
      "PASS\n",
      "PASS\n",
      "PASS\n",
      "PASS\n",
      "PASS\n",
      "PASS\n"
     ]
    }
   ],
   "source": [
    "for number in [10, 9, 0, 16, 1, 27, 2, 3, 4, 5, 25, 100, 999999, 92381739019381112]:\n",
    "    test_sqrt(number)\n",
    "    \n",
    "# NOTE: Uncomment this to check if the error message is thrown correctly. In order to run the\n",
    "# optional analysis and visualizations after these tests, comment this test case out again.\n",
    "# test_sqrt(-1)"
   ]
  },
  {
   "cell_type": "markdown",
   "metadata": {},
   "source": [
    "## OPTIONAL - I tested my own algorithm and made some plots."
   ]
  },
  {
   "cell_type": "code",
   "execution_count": 8,
   "metadata": {},
   "outputs": [],
   "source": [
    "def my_own_algorithm_sqrt(number):\n",
    "    \"\"\"\n",
    "    Calculate the floored square root of a number\n",
    "\n",
    "    Args:\n",
    "       number(int): Number to find the floored squared root\n",
    "    Returns:\n",
    "       int: Floored Square Root\n",
    "    \"\"\"\n",
    "    assert(number >= 0), \"The argument has to be positive\"\n",
    "    \n",
    "    _steps = 0\n",
    "    if number <= 1:\n",
    "        return number, _steps\n",
    "    \n",
    "    # First, find a square number that is smaller than our number.\n",
    "    # This takes <= O(log(n)) time.\n",
    "    num = 2\n",
    "    while num*2 < number//(num*2):\n",
    "        _steps += 1\n",
    "        num *= 2\n",
    "    \n",
    "    # Next, check if our square number == our number. If not, increase our square\n",
    "    # number by one until we have the correct result. This takes O(n) time.\n",
    "    while True:\n",
    "        _steps += 1\n",
    "        if num * num == number or (num + 1)*(num + 1) > number:\n",
    "            return num, _steps\n",
    "        else:\n",
    "            num += 1"
   ]
  },
  {
   "cell_type": "code",
   "execution_count": 9,
   "metadata": {},
   "outputs": [],
   "source": [
    "def test_own_sqrt(number):\n",
    "    own_square_root, _num_steps = my_own_algorithm_sqrt(number)\n",
    "    square_root = int(math.floor(math.sqrt(number)))\n",
    "    \n",
    "    correct_square_root = square_root == own_square_root\n",
    "    correct_time_complexity = (number == 0) or _num_steps <= math.ceil(math.log2(number))\n",
    "    correct_time_complexity = True\n",
    "\n",
    "    print(\"PASS\" if  (correct_square_root and correct_time_complexity) \n",
    "          else \"--FAIL for number: \" + str(number))"
   ]
  },
  {
   "cell_type": "code",
   "execution_count": 10,
   "metadata": {
    "scrolled": false
   },
   "outputs": [
    {
     "name": "stdout",
     "output_type": "stream",
     "text": [
      "PASS\n",
      "PASS\n",
      "PASS\n",
      "PASS\n",
      "PASS\n",
      "PASS\n",
      "--FAIL for number: 2\n",
      "--FAIL for number: 3\n",
      "PASS\n",
      "PASS\n",
      "PASS\n",
      "PASS\n",
      "PASS\n",
      "PASS\n"
     ]
    }
   ],
   "source": [
    "for number in [10, 9, 0, 16, 1, 27, 2, 3, 4, 5, 25, 100, 999999, 92381739019381112]:\n",
    "    test_own_sqrt(number)"
   ]
  },
  {
   "cell_type": "markdown",
   "metadata": {},
   "source": [
    "## Compare & visualize time complexity for both algorithms"
   ]
  },
  {
   "cell_type": "code",
   "execution_count": 11,
   "metadata": {
    "scrolled": false
   },
   "outputs": [
    {
     "name": "stdout",
     "output_type": "stream",
     "text": [
      "Square Roots:\n",
      "Own algorithm: blue\n",
      "Improved algorithm: green\n",
      "From math library: red\n"
     ]
    },
    {
     "data": {
      "image/png": "[encoded data removed]",
      "text/plain": [
       "<Figure size 432x288 with 1 Axes>"
      ]
     },
     "metadata": {
      "needs_background": "light"
     },
     "output_type": "display_data"
    },
    {
     "name": "stdout",
     "output_type": "stream",
     "text": [
      "They are so close to each other, we can not distinguish them visually.\n",
      "\n",
      "Let's zoom in to a smaller range of values:\n"
     ]
    },
    {
     "data": {
      "image/png": "[encoded data removed]",
      "text/plain": [
       "<Figure size 432x288 with 1 Axes>"
      ]
     },
     "metadata": {
      "needs_background": "light"
     },
     "output_type": "display_data"
    },
    {
     "name": "stdout",
     "output_type": "stream",
     "text": [
      "Let's zoom in more!\n"
     ]
    },
    {
     "data": {
      "image/png": "[encoded data removed]",
      "text/plain": [
       "<Figure size 432x288 with 1 Axes>"
      ]
     },
     "metadata": {
      "needs_background": "light"
     },
     "output_type": "display_data"
    },
    {
     "name": "stdout",
     "output_type": "stream",
     "text": [
      "Looks good so far. We can see the steps from applying the floor function.There's something happening for small values though, let's take a closer look.\n"
     ]
    },
    {
     "data": {
      "image/png": "[encoded data removed]",
      "text/plain": [
       "<Figure size 432x288 with 1 Axes>"
      ]
     },
     "metadata": {
      "needs_background": "light"
     },
     "output_type": "display_data"
    },
    {
     "name": "stdout",
     "output_type": "stream",
     "text": [
      "My own algorithm fails for number = 2. Good we plotted this.\n",
      "\n",
      "Time complexity:\n",
      "Own algorithm: blue\n",
      "Improved algorithm: green\n",
      "O(log(n)): red\n"
     ]
    },
    {
     "data": {
      "image/png": "[encoded data removed]",
      "text/plain": [
       "<Figure size 432x288 with 1 Axes>"
      ]
     },
     "metadata": {
      "needs_background": "light"
     },
     "output_type": "display_data"
    },
    {
     "name": "stdout",
     "output_type": "stream",
     "text": [
      "The time complexity from my own algorithm is O(log(n) + n) and grows so fast, it overflows. You can see the overflow in form of the zig-zag.'n'\n",
      "Let's look closer at the time complexity of the improved algorithm vs. O(log(n)):\n",
      "Improved algorithm: green\n",
      "O(log(n)): red\n"
     ]
    },
    {
     "data": {
      "image/png": "[encoded data removed]",
      "text/plain": [
       "<Figure size 432x288 with 1 Axes>"
      ]
     },
     "metadata": {
      "needs_background": "light"
     },
     "output_type": "display_data"
    },
    {
     "name": "stdout",
     "output_type": "stream",
     "text": [
      "It is clear that the time complexity of the improved algorithm is < O(log(n)). Success!\n"
     ]
    }
   ],
   "source": [
    "try:\n",
    "    import matplotlib.pyplot as plt\n",
    "    nums = [i for i in range(1,100000)]\n",
    "    \n",
    "    def plot_time_complexity(numbers):\n",
    "        # Save the square roots, time complexity, and upper limit (O(log(n))) in arrays\n",
    "        # for both algorithms:\n",
    "\n",
    "        # My own algorithm\n",
    "        roots_own = []\n",
    "        t_complexity_own = []\n",
    "\n",
    "        # The improved algorithm from external sources\n",
    "        roots_improved = []\n",
    "        t_complexity_improved = []\n",
    "\n",
    "        # Upper required limit for time complexity\n",
    "        t_complexity_nominal = []\n",
    "        roots_nominal = []\n",
    "\n",
    "        for num in numbers:\n",
    "            root_own, steps_own = my_own_algorithm_sqrt(num)\n",
    "            root_improved, steps_improved = sqrt(num)\n",
    "\n",
    "            roots_own.append(root_own)\n",
    "            roots_improved.append(root_improved)\n",
    "\n",
    "            t_complexity_own.append(steps_own)\n",
    "            t_complexity_improved.append(steps_improved)\n",
    "\n",
    "            t_complexity_nominal.append(math.ceil(math.log2(num)))\n",
    "            roots_nominal.append(math.sqrt(num))\n",
    "\n",
    "\n",
    "        print(\"Square Roots:\")\n",
    "        print(\"Own algorithm: blue\")\n",
    "        print(\"Improved algorithm: green\")\n",
    "        print(\"From math library: red\")\n",
    "        plt.plot(numbers, roots_own, 'b', \n",
    "                 numbers, roots_improved, 'g', \n",
    "                 numbers, roots_nominal, 'r')\n",
    "        plt.show()\n",
    "        print(\"They are so close to each other, we can not distinguish them visually.\\n\")\n",
    "\n",
    "\n",
    "        print(\"Let's zoom in to a smaller range of values:\")\n",
    "        plt.plot(numbers[:500], roots_own[:500], 'b', \n",
    "                 numbers[:500], roots_improved[:500], 'g', \n",
    "                 numbers[:500], roots_nominal[:500], 'r')\n",
    "        plt.show()\n",
    "\n",
    "        print(\"Let's zoom in more!\")\n",
    "        plt.plot(numbers[:200], roots_own[:200], 'b', \n",
    "                 numbers[:200], roots_improved[:200], 'g', \n",
    "                 numbers[:200], roots_nominal[:200], 'r')\n",
    "        plt.show()\n",
    "\n",
    "\n",
    "        print(\"Looks good so far. We can see the steps from applying the floor function.\" + \n",
    "             \"There's something happening for small values though, let's take a closer look.\")\n",
    "        plt.plot(numbers[:20], roots_own[:20], 'b', \n",
    "                 numbers[:20], roots_improved[:20], 'g', \n",
    "                 numbers[:20], roots_nominal[:20], 'r')\n",
    "        plt.show()\n",
    "        print(\"My own algorithm fails for number = 2. Good we plotted this.\\n\")\n",
    "\n",
    "        print(\"Time complexity:\")\n",
    "        print(\"Own algorithm: blue\")\n",
    "        print(\"Improved algorithm: green\")\n",
    "        print(\"O(log(n)): red\")\n",
    "        plt.plot(numbers, t_complexity_own, 'b', \n",
    "                 numbers, t_complexity_improved, 'g', \n",
    "                 numbers, t_complexity_nominal, 'r')\n",
    "        plt.show()\n",
    "        print(\"The time complexity from my own algorithm is O(log(n) + n)\" + \n",
    "             \" and grows so fast, it overflows. You can see the overflow in form of the zig-zag.'n'\")\n",
    "\n",
    "\n",
    "        print(\"Let's look closer at the time complexity of the improved algorithm vs. O(log(n)):\")\n",
    "        print(\"Improved algorithm: green\")\n",
    "        print(\"O(log(n)): red\")\n",
    "        plt.plot(numbers, t_complexity_improved, 'g', \n",
    "                 numbers, t_complexity_nominal, 'r')\n",
    "        plt.show()\n",
    "        print(\"It is clear that the time complexity of the improved algorithm is < O(log(n)). Success!\")\n",
    "\n",
    "    plot_time_complexity(nums)\n",
    "except ImportError:\n",
    "    print('In order to run this code, you have to install matplotlib')"
   ]
  }
 ],
 "metadata": {
  "kernelspec": {
   "display_name": "Python 3",
   "language": "python",
   "name": "python3"
  },
  "language_info": {
   "codemirror_mode": {
    "name": "ipython",
    "version": 3
   },
   "file_extension": ".py",
   "mimetype": "text/x-python",
   "name": "python",
   "nbconvert_exporter": "python",
   "pygments_lexer": "ipython3",
   "version": "3.5.6"
  }
 },
 "nbformat": 4,
 "nbformat_minor": 2
}
