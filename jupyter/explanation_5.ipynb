{
 "cells": [
  {
   "cell_type": "markdown",
   "metadata": {},
   "source": [
    "# Explanation for Problem 5:  Autocomplete with Tries\n",
    "\n",
    "## Requirements\n",
    "There are no efficiency requirements for this problem.\n",
    "\n",
    "## Code Design\n",
    "The design was already given: The problem is solved using Tries.\n",
    "\n",
    "## Efficiency\n",
    "We're assuming there are `n` words stored in the Trie. The longest word has `m` characters.\n",
    "\n",
    "We can think of the prefix as having `m1` characters, and the suffixes are `m2` characters long, with `m = m1 + m2`.\n",
    "\n",
    "### Time Efficiency\n",
    "There are three main operations for autocompletion using Tries:\n",
    "\n",
    "1. Insert a word\n",
    "2. Look up a word\n",
    "3. Get all stored suffixes given a prefix.\n",
    "\n",
    "Given the assumptions mentioned above, it takes `O(m)` time complexity for both insertion and lookup of a word. That's `O(n*m)` to insert or look up `n` words.\n",
    "\n",
    "When we want to get all suffixes for a given prefix, we need:\n",
    "\n",
    "1. `O(m1)` to get to the node that contains all possible suffixes.\n",
    "2. `O(n*m2)` to look up all `n` suffixes\n",
    "\n",
    "which results in a total of `O(m1 + n*m2) = O(m + m2*(n-1))` which can be simplified to an upper bound of `O(n*m)` time efficiency.\n",
    "\n",
    "### Space Efficiency\n",
    "The trie requires at most `O(n*m)` space."
   ]
  }
 ],
 "metadata": {
  "kernelspec": {
   "display_name": "Python 3",
   "language": "python",
   "name": "python3"
  },
  "language_info": {
   "codemirror_mode": {
    "name": "ipython",
    "version": 3
   },
   "file_extension": ".py",
   "mimetype": "text/x-python",
   "name": "python",
   "nbconvert_exporter": "python",
   "pygments_lexer": "ipython3",
   "version": "3.5.6"
  }
 },
 "nbformat": 4,
 "nbformat_minor": 2
}
