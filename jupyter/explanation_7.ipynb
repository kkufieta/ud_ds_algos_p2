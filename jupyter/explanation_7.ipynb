{
 "cells": [
  {
   "cell_type": "markdown",
   "metadata": {},
   "source": [
    "# Explanation for Problem 7:  Request Routing in a Web Server with a Trie\n",
    "\n",
    "## Requirements\n",
    "There are no space or time complexity requirements for this problem.\n",
    "\n",
    "## Code Design\n",
    "The Router's functionality is to add paths and their respective handlers, as well as retrieve handlers for a given path.\n",
    "\n",
    "The underlying datastructure is a RouteTrie, a trie that stores path segments as keys (as opposed to single characters).\n",
    "\n",
    "## Efficiency\n",
    "We are assuming that we store `n` paths and their respective handlers, and the \"length\" of a path is `m`. I believe that `n` can be a big number, while `m` should be a relatively small constant number.\n",
    "\n",
    "### Time Efficiency\n",
    "There are three main operations:\n",
    "\n",
    "1. Insert a path & handler\n",
    "2. Look up a handler for a given path\n",
    "\n",
    "Given the assumptions mentioned above, it takes `O(m)` time complexity for both insertion and lookup of a path. That's `O(n*m)` to insert or look up `n` paths.\n",
    "\n",
    "### Space Efficiency\n",
    "The trie requires at most `O(n*m)` space."
   ]
  }
 ],
 "metadata": {
  "kernelspec": {
   "display_name": "Python 3",
   "language": "python",
   "name": "python3"
  },
  "language_info": {
   "codemirror_mode": {
    "name": "ipython",
    "version": 3
   },
   "file_extension": ".py",
   "mimetype": "text/x-python",
   "name": "python",
   "nbconvert_exporter": "python",
   "pygments_lexer": "ipython3",
   "version": "3.5.6"
  }
 },
 "nbformat": 4,
 "nbformat_minor": 2
}
