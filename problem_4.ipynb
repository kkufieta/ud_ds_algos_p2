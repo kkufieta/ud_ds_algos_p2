{
 "cells": [
  {
   "cell_type": "markdown",
   "metadata": {},
   "source": [
    "# Problem 4: Dutch National Flag Problem\n",
    "\n",
    "Given an input array consisting on only `0`, `1`, and `2`, sort the array in a single traversal. You're not allowed to use any sorting function that Python provides.\n",
    "\n",
    "Note: `O(n)` does not necessarily mean single-traversal. For e.g. if you traverse the array twice, that would still be an `O(n)` solution but it will not count as single traversal."
   ]
  },
  {
   "cell_type": "code",
   "execution_count": 1,
   "metadata": {},
   "outputs": [],
   "source": [
    "def sort_012(a):\n",
    "    \"\"\"\n",
    "    Given an input array consisting on only 0, 1, and 2, sort the array in a single traversal.\n",
    "\n",
    "    Args:\n",
    "       a(list): List to be sorted\n",
    "    \"\"\"\n",
    "    # lo keeps track of the running index coming from the beginning of the list\n",
    "    # hi keeps track of the running index coming from the end of the list\n",
    "    # m1 and m2 keep track where the subarray of 1's is located \n",
    "    # (keeps track of the first and last index of the 1's subarray)\n",
    "    lo, m1 = 0, 0\n",
    "    hi, m2 = len(a)-1, len(a)-1\n",
    "    runtime = 0\n",
    "    while lo <= hi:\n",
    "        runtime += 1\n",
    "        if a[lo] == 0:\n",
    "            if m1 < lo:\n",
    "                a[m1] = 0\n",
    "                a[lo] = 1\n",
    "            m1 += 1\n",
    "            lo += 1\n",
    "        elif a[hi] == 2:\n",
    "            if m2 > hi:\n",
    "                a[m2] = 2\n",
    "                a[hi] = 1\n",
    "            m2 -= 1\n",
    "            hi -= 1\n",
    "        elif a[lo] == 1:\n",
    "            lo += 1\n",
    "        elif a[hi] == 1:\n",
    "            hi -= 1\n",
    "        elif a[lo] == 2 and a[hi] == 0:\n",
    "            if lo == m1:\n",
    "                a[lo] = 0\n",
    "            else:\n",
    "                a[m1] = 0\n",
    "                a[lo] = 1\n",
    "            lo += 1\n",
    "            m1 += 1\n",
    "            if hi == m2:\n",
    "                a[hi] = 2\n",
    "            else:\n",
    "                a[m2] = 2\n",
    "                a[hi] = 1\n",
    "            m2 -= 1\n",
    "            hi -= 1\n",
    "        else:\n",
    "            print(\"Warning: Logic problem\")    \n",
    "    return a, runtime"
   ]
  },
  {
   "cell_type": "markdown",
   "metadata": {},
   "source": [
    "## Testing"
   ]
  },
  {
   "cell_type": "code",
   "execution_count": 2,
   "metadata": {
    "scrolled": false
   },
   "outputs": [
    {
     "name": "stdout",
     "output_type": "stream",
     "text": [
      "\n",
      "Testing:  [0, 0, 2, 2, 2, 1, 1, 1, 2, 0, 2]\n",
      "Result:  [0, 0, 0, 1, 1, 1, 2, 2, 2, 2, 2]\n",
      "len(a):  11 , runtime:  10\n",
      "PASS\n",
      "\n",
      "Testing:  [2, 1, 2, 0, 0, 2, 1, 0, 1, 0, 0, 2, 2, 2, 1, 2, 0, 0, 0, 2, 1, 0, 2, 0, 0, 1]\n",
      "Result:  [0, 0, 0, 0, 0, 0, 0, 0, 0, 0, 0, 1, 1, 1, 1, 1, 1, 2, 2, 2, 2, 2, 2, 2, 2, 2]\n",
      "len(a):  26 , runtime:  20\n",
      "PASS\n",
      "\n",
      "Testing:  [0, 0, 0, 0, 0, 0, 1, 1, 1, 1, 1, 1, 2, 2, 2, 2, 2, 2, 2]\n",
      "Result:  [0, 0, 0, 0, 0, 0, 1, 1, 1, 1, 1, 1, 2, 2, 2, 2, 2, 2, 2]\n",
      "len(a):  19 , runtime:  19\n",
      "PASS\n"
     ]
    }
   ],
   "source": [
    "def test_function(a):\n",
    "    print(\"\\nTesting: \", a)\n",
    "    sorted_array, runtime = sort_012(a)\n",
    "    print(\"Result: \", sorted_array)\n",
    "    print(\"len(a): \", len(a), \", runtime: \", runtime)\n",
    "    if sorted_array == sorted(a) and runtime <= len(a):\n",
    "        print(\"PASS\")\n",
    "    else:\n",
    "        print(\"FAIL\")\n",
    "\n",
    "test_function([0, 0, 2, 2, 2, 1, 1, 1, 2, 0, 2])\n",
    "test_function([2, 1, 2, 0, 0, 2, 1, 0, 1, 0, 0, 2, 2, 2, 1, 2, 0, 0, 0, 2, 1, 0, 2, 0, 0, 1])\n",
    "test_function([0, 0, 0, 0, 0, 0, 1, 1, 1, 1, 1, 1, 2, 2, 2, 2, 2, 2, 2])"
   ]
  },
  {
   "cell_type": "code",
   "execution_count": 3,
   "metadata": {},
   "outputs": [
    {
     "name": "stdout",
     "output_type": "stream",
     "text": [
      "\n",
      "Testing:  []\n",
      "Result:  []\n",
      "len(a):  0 , runtime:  0\n",
      "PASS\n",
      "\n",
      "Testing:  [0]\n",
      "Result:  [0]\n",
      "len(a):  1 , runtime:  1\n",
      "PASS\n",
      "\n",
      "Testing:  [1]\n",
      "Result:  [1]\n",
      "len(a):  1 , runtime:  1\n",
      "PASS\n",
      "\n",
      "Testing:  [2]\n",
      "Result:  [2]\n",
      "len(a):  1 , runtime:  1\n",
      "PASS\n"
     ]
    }
   ],
   "source": [
    "test_function([])\n",
    "test_function([0])\n",
    "test_function([1])\n",
    "test_function([2])"
   ]
  },
  {
   "cell_type": "code",
   "execution_count": 4,
   "metadata": {},
   "outputs": [
    {
     "name": "stdout",
     "output_type": "stream",
     "text": [
      "\n",
      "Testing:  [0, 0, 0]\n",
      "Result:  [0, 0, 0]\n",
      "len(a):  3 , runtime:  3\n",
      "PASS\n",
      "\n",
      "Testing:  [0, 1, 2]\n",
      "Result:  [0, 1, 2]\n",
      "len(a):  3 , runtime:  3\n",
      "PASS\n",
      "\n",
      "Testing:  [2, 1, 0]\n",
      "Result:  [0, 1, 2]\n",
      "len(a):  3 , runtime:  2\n",
      "PASS\n"
     ]
    }
   ],
   "source": [
    "test_function([0, 0, 0])\n",
    "test_function([0, 1, 2])\n",
    "test_function([2, 1, 0])"
   ]
  },
  {
   "cell_type": "code",
   "execution_count": 5,
   "metadata": {},
   "outputs": [
    {
     "name": "stdout",
     "output_type": "stream",
     "text": [
      "\n",
      "Testing:  [0, 0, 0, 1, 1, 1, 2, 2, 2]\n",
      "Result:  [0, 0, 0, 1, 1, 1, 2, 2, 2]\n",
      "len(a):  9 , runtime:  9\n",
      "PASS\n"
     ]
    }
   ],
   "source": [
    "test_function([0, 0, 0, 1, 1, 1, 2, 2, 2])"
   ]
  },
  {
   "cell_type": "code",
   "execution_count": 6,
   "metadata": {},
   "outputs": [
    {
     "name": "stdout",
     "output_type": "stream",
     "text": [
      "\n",
      "Testing:  [0, 0, 0, 0, 0, 0]\n",
      "Result:  [0, 0, 0, 0, 0, 0]\n",
      "len(a):  6 , runtime:  6\n",
      "PASS\n",
      "\n",
      "Testing:  [1, 1, 1, 1, 1, 1]\n",
      "Result:  [1, 1, 1, 1, 1, 1]\n",
      "len(a):  6 , runtime:  6\n",
      "PASS\n",
      "\n",
      "Testing:  [2, 2, 2, 2, 2, 2]\n",
      "Result:  [2, 2, 2, 2, 2, 2]\n",
      "len(a):  6 , runtime:  6\n",
      "PASS\n",
      "\n",
      "Testing:  [2, 2, 2, 1, 1, 1, 0, 0, 0, 0]\n",
      "Result:  [0, 0, 0, 0, 1, 1, 1, 2, 2, 2]\n",
      "len(a):  10 , runtime:  7\n",
      "PASS\n"
     ]
    }
   ],
   "source": [
    "test_function([0, 0, 0, 0, 0, 0])\n",
    "test_function([1, 1, 1, 1, 1, 1])\n",
    "test_function([2, 2, 2, 2, 2, 2])\n",
    "test_function([2, 2, 2, 1, 1, 1, 0, 0, 0, 0])"
   ]
  },
  {
   "cell_type": "code",
   "execution_count": null,
   "metadata": {},
   "outputs": [],
   "source": []
  }
 ],
 "metadata": {
  "kernelspec": {
   "display_name": "Python 3",
   "language": "python",
   "name": "python3"
  },
  "language_info": {
   "codemirror_mode": {
    "name": "ipython",
    "version": 3
   },
   "file_extension": ".py",
   "mimetype": "text/x-python",
   "name": "python",
   "nbconvert_exporter": "python",
   "pygments_lexer": "ipython3",
   "version": "3.5.6"
  }
 },
 "nbformat": 4,
 "nbformat_minor": 2
}
