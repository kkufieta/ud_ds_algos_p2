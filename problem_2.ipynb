{
 "cells": [
  {
   "cell_type": "markdown",
   "metadata": {},
   "source": [
    "# Problem 2: Search in a Rotated Sorted Array\n",
    "\n",
    "You are given a sorted array which is rotated at some random pivot point.\n",
    "\n",
    "Example: `[0,1,2,4,5,6,7]` might become `[4,5,6,7,0,1,2]`\n",
    "\n",
    "You are given a target value to search. If found in the array return its index, otherwise return `-1`.\n",
    "\n",
    "You can assume there are no duplicates in the array and your algorithm's runtime complexity must be in the order of `O(log n)`.\n",
    "\n",
    "Example: `Input: nums = [4,5,6,7,0,1,2], target = 0, Output: 4`"
   ]
  },
  {
   "cell_type": "code",
   "execution_count": 1,
   "metadata": {},
   "outputs": [],
   "source": [
    "def rotated_array_search(a, num):\n",
    "    \"\"\"\n",
    "    Find the index by searching in a rotated sorted array\n",
    "\n",
    "    Args:\n",
    "       a(array), num(int): Input array to search and the target\n",
    "    Returns:\n",
    "       int: Index or -1\n",
    "    \"\"\"\n",
    "    return binary_search(a, num, 0, len(a)-1)"
   ]
  },
  {
   "cell_type": "code",
   "execution_count": 2,
   "metadata": {},
   "outputs": [],
   "source": [
    "def is_sorted(a, lo, hi):\n",
    "    \"\"\"\n",
    "    Checks if the array is sorted.\n",
    "    \n",
    "    This is based on the assumption that the array is sorted\n",
    "    and then possibly rotated at a pivot point. Thus, we\n",
    "    check if the array is rotated (which equals to not being sorted \n",
    "    here).\n",
    "    \"\"\"\n",
    "    return a[lo] <= a[hi]\n",
    "\n",
    "def binary_search(a, num, lo, hi):\n",
    "    \"\"\"\n",
    "    Search for a number in the array using a modified binary search.\n",
    "    \"\"\"\n",
    "    if lo > hi:\n",
    "        return -1\n",
    "    \n",
    "    # Since the array is rotated, this introduces a violation of the\n",
    "    # assumption that the array is completely sorted. The condition that\n",
    "    # the array has to be sorted for binary search to work has to\n",
    "    # be checked and accounted for.\n",
    "    \n",
    "    # The following is a modified version of binary search. The\n",
    "    # key difference is that in addition to checking which subarray to\n",
    "    # search based on whether the number we look for is smaller or \n",
    "    # greater than the number in the middle of the array,\n",
    "    # we do also search a subarray if we detect that the subarray is\n",
    "    # rotated. This does not add much to the time complexity, since\n",
    "    # the chance that we have to search both subarrays (which are\n",
    "    # divided by the middle element) is only 50% at each iteration.\n",
    "    # More details can be found in the explanation.\n",
    "    mid = (lo + hi)//2\n",
    "    if num == a[mid]:\n",
    "        return mid\n",
    "    if not is_sorted(a, lo, mid) or (num < a[mid] and num >= a[lo]):\n",
    "        result = binary_search(a, num, lo, mid-1)\n",
    "        if result is not -1:\n",
    "            return result\n",
    "    if not is_sorted(a, mid, hi) or (num > a[mid] and num <= a[hi]):\n",
    "        result = binary_search(a, num, mid+1, hi)\n",
    "        if result is not -1:\n",
    "            return result\n",
    "    return -1"
   ]
  },
  {
   "cell_type": "markdown",
   "metadata": {},
   "source": [
    "## Tests"
   ]
  },
  {
   "cell_type": "code",
   "execution_count": 3,
   "metadata": {},
   "outputs": [
    {
     "name": "stdout",
     "output_type": "stream",
     "text": [
      "== PASS ==, found  6  at index:  0\n",
      "== PASS ==, found  1  at index:  5\n",
      "== PASS ==, found  8  at index:  2\n",
      "== PASS ==, found  1  at index:  3\n",
      "== PASS ==, found  10  at index:  -1\n",
      "== PASS ==, found  10  at index:  -1\n",
      "== PASS ==, found  1  at index:  5\n"
     ]
    }
   ],
   "source": [
    "def linear_search(input_list, number):\n",
    "    \"\"\"\n",
    "    Searches the array in linear time. \n",
    "    \n",
    "    This is a helper function for testing.\n",
    "    \"\"\"\n",
    "    for index, element in enumerate(input_list):\n",
    "        if element == number:\n",
    "            return index\n",
    "    return -1\n",
    "\n",
    "def test_function(test_case):\n",
    "    a = test_case[0]\n",
    "    number = test_case[1]\n",
    "    result = rotated_array_search(a, number)\n",
    "    if linear_search(a, number) == result:\n",
    "        print(\"== PASS ==, found \", number, \" at index: \", result)\n",
    "    else:\n",
    "        print(\"== FAIL ==\")\n",
    "\n",
    "test_function([[6, 7, 8, 9, 10, 1, 2, 3, 4], 6])\n",
    "test_function([[6, 7, 8, 9, 10, 1, 2, 3, 4], 1])\n",
    "test_function([[6, 7, 8, 1, 2, 3, 4], 8])\n",
    "test_function([[6, 7, 8, 1, 2, 3, 4], 1])\n",
    "test_function([[6, 7, 8, 1, 2, 3, 4], 10])\n",
    "test_function([[], 10])\n",
    "test_function([[5,6,7,8,9,1], 1])"
   ]
  },
  {
   "cell_type": "code",
   "execution_count": null,
   "metadata": {},
   "outputs": [],
   "source": []
  }
 ],
 "metadata": {
  "kernelspec": {
   "display_name": "Python 3",
   "language": "python",
   "name": "python3"
  },
  "language_info": {
   "codemirror_mode": {
    "name": "ipython",
    "version": 3
   },
   "file_extension": ".py",
   "mimetype": "text/x-python",
   "name": "python",
   "nbconvert_exporter": "python",
   "pygments_lexer": "ipython3",
   "version": "3.5.6"
  }
 },
 "nbformat": 4,
 "nbformat_minor": 2
}
