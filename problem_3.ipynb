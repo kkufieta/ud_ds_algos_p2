{
 "cells": [
  {
   "cell_type": "markdown",
   "metadata": {},
   "source": [
    "# Problem 3: Rearrange Array Digits\n",
    "\n",
    "Rearrange Array Elements so as to form two number such that their sum is maximum. Return these two numbers. You can assume that all array elements are in the range `[0, 9]`. The number of digits in both the numbers cannot differ by more than `1`. You're not allowed to use any sorting function that Python provides and the expected time complexity is `O(nlog(n))`.\n",
    "\n",
    "for e.g. `[1, 2, 3, 4, 5]`\n",
    "\n",
    "The expected answer would be `[531, 42]`. Another expected answer can be `[542, 31]`. In scenarios such as these when there are more than one possible answers, return any one."
   ]
  },
  {
   "cell_type": "markdown",
   "metadata": {},
   "source": [
    "## Mergesort\n",
    "Getting the digits is trivial when the array is sorted. We can sort the array in `O(nlog(n))` time and `O(n)` space complexity."
   ]
  },
  {
   "cell_type": "code",
   "execution_count": 1,
   "metadata": {},
   "outputs": [],
   "source": [
    "def merge(a1, a2):\n",
    "    '''\n",
    "    Merges two sorted arrays into a single sorted array.\n",
    "    '''\n",
    "    assert(type(a1) == list), \"a1 has to be an array\"\n",
    "    assert(type(a2) == list), \"a2 has to be an array\"\n",
    "    \n",
    "    i1, i2 = 0, 0\n",
    "    len1, len2 = len(a1), len(a2)\n",
    "    b = []\n",
    "    while i1 < len1 and i2 < len2:\n",
    "        if a1[i1] > a2[i2]:\n",
    "            b.append(a1[i1])\n",
    "            i1 += 1\n",
    "        else:\n",
    "            b.append(a2[i2])\n",
    "            i2 += 1\n",
    "    if i1 < len1:\n",
    "        b = b + a1[i1:]\n",
    "    if i2 < len2:\n",
    "        b = b + a2[i2:]\n",
    "    return b\n",
    "    \n",
    "    \n",
    "def merge_sort(a):\n",
    "    '''\n",
    "    Sorts an array using merge sort.\n",
    "    '''\n",
    "    assert(type(a) == list), \"a has to be an array\"\n",
    "    if len(a) == 1:\n",
    "        return a\n",
    "    mid = len(a)//2\n",
    "    left = merge_sort(a[:mid])\n",
    "    right = merge_sort(a[mid:])\n",
    "    return merge(left, right)"
   ]
  },
  {
   "cell_type": "markdown",
   "metadata": {},
   "source": [
    "## Get digits from the sorted array\n",
    "This requires to loop through the sorted array once, which requires `O(n)` time. Together with the time efficiency for sorting the array, `O(n*log(n))`, the total time complexity is `O(n*log(n))`."
   ]
  },
  {
   "cell_type": "code",
   "execution_count": 2,
   "metadata": {},
   "outputs": [],
   "source": [
    "def get_digits(a):\n",
    "    \"\"\"\n",
    "    Forms two numbers from the array digits such that their sum is maximum.\n",
    "    \"\"\"\n",
    "    assert(type(a) == list), \"a has to be an array\"\n",
    "    a = merge_sort(a)\n",
    "    i = 0\n",
    "    length_a = len(a)\n",
    "    num_1, num_2 = \"\", \"\"\n",
    "    for i, el in enumerate(a):\n",
    "        if i%2 == 0:\n",
    "            num_1 += str(el)\n",
    "        else:\n",
    "            num_2 += str(el)\n",
    "    return [int(num_1), int(num_2)]"
   ]
  },
  {
   "cell_type": "code",
   "execution_count": 3,
   "metadata": {},
   "outputs": [],
   "source": [
    "def rearrange_digits(a):\n",
    "    \"\"\"\n",
    "    Rearrange Array Elements so as to form two number such that their sum is maximum.\n",
    "\n",
    "    Args:\n",
    "       a(list): Input List\n",
    "    Returns:\n",
    "       (int),(int): Two maximum sums\n",
    "    \"\"\"\n",
    "    assert(type(a) == list), \"a has to be an array\"\n",
    "    assert(len(a) > 0), \"a has to have at least one element\"\n",
    "    if (len(a) == 1):\n",
    "        return [a[0], 0]\n",
    "    if (len(a) == 2):\n",
    "        if a[0] > a[1]:\n",
    "            return [int(str(a[0]) + str(a[1])), 0]\n",
    "        else:\n",
    "            return [int(str(a[1]) + str(a[0])), 0]\n",
    "    return get_digits(a)"
   ]
  },
  {
   "cell_type": "markdown",
   "metadata": {},
   "source": [
    "## Testing"
   ]
  },
  {
   "cell_type": "code",
   "execution_count": 4,
   "metadata": {},
   "outputs": [
    {
     "name": "stdout",
     "output_type": "stream",
     "text": [
      "No AssertionError? We passed all tests!\n"
     ]
    }
   ],
   "source": [
    "def test_function(test_case):\n",
    "    output = rearrange_digits(test_case[0])\n",
    "    solution = test_case[1]\n",
    "    assert(sum(output) == sum(solution))\n",
    "\n",
    "test_function([[1, 2, 3, 4, 5], [542, 31]])\n",
    "test_function([[4, 6, 2, 5, 9, 8], [964, 852]])\n",
    "test_function([[1], [1, 0]])\n",
    "test_function([[9, 8], [98, 0]])\n",
    "test_function([[8, 9], [98, 0]])\n",
    "test_function([[9, 9, 9], [99, 9]])\n",
    "\n",
    "print(\"No AssertionError? We passed all tests!\")"
   ]
  },
  {
   "cell_type": "code",
   "execution_count": 5,
   "metadata": {},
   "outputs": [
    {
     "ename": "AssertionError",
     "evalue": "a has to have at least one element",
     "output_type": "error",
     "traceback": [
      "\u001b[0;31m---------------------------------------------------------------------------\u001b[0m",
      "\u001b[0;31mAssertionError\u001b[0m                            Traceback (most recent call last)",
      "\u001b[0;32m<ipython-input-5-4f78ee7ddded>\u001b[0m in \u001b[0;36m<module>\u001b[0;34m\u001b[0m\n\u001b[0;32m----> 1\u001b[0;31m \u001b[0mtest_function\u001b[0m\u001b[0;34m(\u001b[0m\u001b[0;34m[\u001b[0m\u001b[0;34m[\u001b[0m\u001b[0;34m]\u001b[0m\u001b[0;34m,\u001b[0m \u001b[0;34m[\u001b[0m\u001b[0;34m]\u001b[0m\u001b[0;34m]\u001b[0m\u001b[0;34m)\u001b[0m\u001b[0;34m\u001b[0m\u001b[0m\n\u001b[0m",
      "\u001b[0;32m<ipython-input-4-7ef8b4ddf38d>\u001b[0m in \u001b[0;36mtest_function\u001b[0;34m(test_case)\u001b[0m\n\u001b[1;32m      1\u001b[0m \u001b[0;32mdef\u001b[0m \u001b[0mtest_function\u001b[0m\u001b[0;34m(\u001b[0m\u001b[0mtest_case\u001b[0m\u001b[0;34m)\u001b[0m\u001b[0;34m:\u001b[0m\u001b[0;34m\u001b[0m\u001b[0m\n\u001b[0;32m----> 2\u001b[0;31m     \u001b[0moutput\u001b[0m \u001b[0;34m=\u001b[0m \u001b[0mrearrange_digits\u001b[0m\u001b[0;34m(\u001b[0m\u001b[0mtest_case\u001b[0m\u001b[0;34m[\u001b[0m\u001b[0;36m0\u001b[0m\u001b[0;34m]\u001b[0m\u001b[0;34m)\u001b[0m\u001b[0;34m\u001b[0m\u001b[0m\n\u001b[0m\u001b[1;32m      3\u001b[0m     \u001b[0msolution\u001b[0m \u001b[0;34m=\u001b[0m \u001b[0mtest_case\u001b[0m\u001b[0;34m[\u001b[0m\u001b[0;36m1\u001b[0m\u001b[0;34m]\u001b[0m\u001b[0;34m\u001b[0m\u001b[0m\n\u001b[1;32m      4\u001b[0m     \u001b[0;32massert\u001b[0m\u001b[0;34m(\u001b[0m\u001b[0msum\u001b[0m\u001b[0;34m(\u001b[0m\u001b[0moutput\u001b[0m\u001b[0;34m)\u001b[0m \u001b[0;34m==\u001b[0m \u001b[0msum\u001b[0m\u001b[0;34m(\u001b[0m\u001b[0msolution\u001b[0m\u001b[0;34m)\u001b[0m\u001b[0;34m)\u001b[0m\u001b[0;34m\u001b[0m\u001b[0m\n\u001b[1;32m      5\u001b[0m \u001b[0;34m\u001b[0m\u001b[0m\n",
      "\u001b[0;32m<ipython-input-3-1db61d5e5341>\u001b[0m in \u001b[0;36mrearrange_digits\u001b[0;34m(a)\u001b[0m\n\u001b[1;32m      9\u001b[0m     \"\"\"\n\u001b[1;32m     10\u001b[0m     \u001b[0;32massert\u001b[0m\u001b[0;34m(\u001b[0m\u001b[0mtype\u001b[0m\u001b[0;34m(\u001b[0m\u001b[0ma\u001b[0m\u001b[0;34m)\u001b[0m \u001b[0;34m==\u001b[0m \u001b[0mlist\u001b[0m\u001b[0;34m)\u001b[0m\u001b[0;34m,\u001b[0m \u001b[0;34m\"a has to be an array\"\u001b[0m\u001b[0;34m\u001b[0m\u001b[0m\n\u001b[0;32m---> 11\u001b[0;31m     \u001b[0;32massert\u001b[0m\u001b[0;34m(\u001b[0m\u001b[0mlen\u001b[0m\u001b[0;34m(\u001b[0m\u001b[0ma\u001b[0m\u001b[0;34m)\u001b[0m \u001b[0;34m>\u001b[0m \u001b[0;36m0\u001b[0m\u001b[0;34m)\u001b[0m\u001b[0;34m,\u001b[0m \u001b[0;34m\"a has to have at least one element\"\u001b[0m\u001b[0;34m\u001b[0m\u001b[0m\n\u001b[0m\u001b[1;32m     12\u001b[0m     \u001b[0;32mif\u001b[0m \u001b[0;34m(\u001b[0m\u001b[0mlen\u001b[0m\u001b[0;34m(\u001b[0m\u001b[0ma\u001b[0m\u001b[0;34m)\u001b[0m \u001b[0;34m==\u001b[0m \u001b[0;36m1\u001b[0m\u001b[0;34m)\u001b[0m\u001b[0;34m:\u001b[0m\u001b[0;34m\u001b[0m\u001b[0m\n\u001b[1;32m     13\u001b[0m         \u001b[0;32mreturn\u001b[0m \u001b[0;34m[\u001b[0m\u001b[0ma\u001b[0m\u001b[0;34m[\u001b[0m\u001b[0;36m0\u001b[0m\u001b[0;34m]\u001b[0m\u001b[0;34m,\u001b[0m \u001b[0;36m0\u001b[0m\u001b[0;34m]\u001b[0m\u001b[0;34m\u001b[0m\u001b[0m\n",
      "\u001b[0;31mAssertionError\u001b[0m: a has to have at least one element"
     ]
    }
   ],
   "source": [
    "test_function([[], []])"
   ]
  }
 ],
 "metadata": {
  "kernelspec": {
   "display_name": "Python 3",
   "language": "python",
   "name": "python3"
  },
  "language_info": {
   "codemirror_mode": {
    "name": "ipython",
    "version": 3
   },
   "file_extension": ".py",
   "mimetype": "text/x-python",
   "name": "python",
   "nbconvert_exporter": "python",
   "pygments_lexer": "ipython3",
   "version": "3.5.6"
  }
 },
 "nbformat": 4,
 "nbformat_minor": 2
}
